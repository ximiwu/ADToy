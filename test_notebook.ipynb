{
 "cells": [
  {
   "cell_type": "code",
   "execution_count": 133,
   "id": "19cf5491-ab5c-44a4-97ee-18643c70a17e",
   "metadata": {},
   "outputs": [],
   "source": [
    "import numpy as np\n",
    "\n",
    "class Add:\n",
    "    def backward(self, grad, inputs):\n",
    "        a, b = inputs\n",
    "        a.grad += grad\n",
    "        b.grad += grad\n",
    "\n",
    "class Mul:\n",
    "    def backward(self, grad, inputs):\n",
    "        a, b = inputs\n",
    "        if a.data.shape == ():\n",
    "            grad_a = (grad * b.data).sum()\n",
    "        else:\n",
    "            grad_a = grad * b.data\n",
    "        if b.data.shape == ():\n",
    "            grad_b = grad * a.data.sum()\n",
    "        else:\n",
    "            grad_b = grad * a.data\n",
    "        a.grad += grad_a\n",
    "        b.grad += grad_b\n",
    "        \n",
    "        \n",
    "\n",
    "class Sub:\n",
    "    def backward(self, grad, inputs):\n",
    "        a, b = inputs\n",
    "        a.grad += grad\n",
    "        b.grad -= grad\n",
    "\n",
    "class MatMul:\n",
    "    def backward(self, grad, inputs):\n",
    "        A, B = inputs\n",
    "        grad_a = grad @ np.swapaxes(B.data, -1, -2)\n",
    "        grad_b = np.swapaxes(A.data, -1, -2) @ grad\n",
    "        while grad_a.shape != A.data.shape:\n",
    "            grad_a = np.sum(grad_a, axis=(0))\n",
    "        while grad_b.shape != B.data.shape:\n",
    "            grad_b = np.sum(grad_b, axis=(0))\n",
    "        A.grad += grad_a\n",
    "        B.grad += grad_b\n",
    "    \n",
    "\n",
    "class tensor:\n",
    "    def __init__(self, data, requires_grad=False, is_leaf = True):\n",
    "        self.data = np.array(data, dtype=float)\n",
    "        self.requires_grad = requires_grad\n",
    "        self.grad = np.zeros(self.data.shape, dtype=float)\n",
    "        self.op = None\n",
    "        self.is_leaf = is_leaf\n",
    "        self.inputs = []\n",
    "        self.backprop_done = False\n",
    "\n",
    "                \n",
    "    \n",
    "    def backward(self, grad=None):\n",
    "        if self.backprop_done:\n",
    "            return\n",
    "        self.backprop_done = True\n",
    "        if not self.requires_grad:\n",
    "            return\n",
    "        if grad is not None:\n",
    "            self.grad += grad\n",
    "        if self.op is None:\n",
    "            return\n",
    "        self.op.backward(self.grad, self.inputs)\n",
    "        for node in self.inputs:\n",
    "            node.backward()\n",
    "    \n",
    "    def get_ones(self):\n",
    "        return np.ones(self.data.shape, dtype=float)    \n",
    "        \n",
    "    def __mul__(self, other):\n",
    "        requires_grad = self.requires_grad or other.requires_grad\n",
    "        out = tensor(self.data * other.data, requires_grad, is_leaf=False)\n",
    "        out.op = Mul()\n",
    "        out.inputs = [self, other]\n",
    "        return out\n",
    "    \n",
    "    def __matmul__(self, other):\n",
    "        requires_grad = self.requires_grad or other.requires_grad\n",
    "        out = tensor(self.data @ other.data, requires_grad, is_leaf=False)\n",
    "        out.op = MatMul()\n",
    "        out.inputs = [self, other]\n",
    "        return out\n",
    "    \n",
    "    def __add__(self, other):\n",
    "        requires_grad = self.requires_grad or other.requires_grad\n",
    "        out = tensor(self.data + other.data, requires_grad, is_leaf=False)\n",
    "        out.op = Add()\n",
    "        out.inputs = [self, other]\n",
    "        return out\n",
    "    def __sub__(self, other):\n",
    "        requires_grad = self.requires_grad or other.requires_grad\n",
    "        out = tensor(self.data - other.data, requires_grad, is_leaf=False)\n",
    "        out.op = Sub()\n",
    "        out.inputs = [self, other]\n",
    "        return out"
   ]
  },
  {
   "cell_type": "code",
   "execution_count": 56,
   "id": "9a94d17a-a500-4710-9351-cf52ee005675",
   "metadata": {},
   "outputs": [],
   "source": [
    "#scaler multiply test"
   ]
  },
  {
   "cell_type": "code",
   "execution_count": 57,
   "id": "06131582-aed1-4316-9d2c-6358caa5c680",
   "metadata": {},
   "outputs": [],
   "source": [
    "a = tensor(2.0, True)"
   ]
  },
  {
   "cell_type": "code",
   "execution_count": 58,
   "id": "cd254956-d072-44f1-b174-338b11b986a2",
   "metadata": {},
   "outputs": [],
   "source": [
    "b = tensor(3.0, True)"
   ]
  },
  {
   "cell_type": "code",
   "execution_count": 59,
   "id": "04d9f24c-717c-4cac-97c3-1c5dfdb9e86b",
   "metadata": {},
   "outputs": [],
   "source": [
    "c = tensor(4.0, True)"
   ]
  },
  {
   "cell_type": "code",
   "execution_count": 60,
   "id": "d44b7a11-4cf0-4c12-9881-4c9f0c3dada4",
   "metadata": {},
   "outputs": [],
   "source": [
    "d = a * b * c\n",
    "e = a * b\n",
    "f = e + d"
   ]
  },
  {
   "cell_type": "code",
   "execution_count": 61,
   "id": "24d4c131-2891-4dbe-86d0-34bf888971ab",
   "metadata": {},
   "outputs": [],
   "source": [
    "f.backward(1)"
   ]
  },
  {
   "cell_type": "code",
   "execution_count": 62,
   "id": "78fd043a-cea1-4463-8486-e14f65e494d7",
   "metadata": {},
   "outputs": [
    {
     "data": {
      "text/plain": [
       "array(15.)"
      ]
     },
     "execution_count": 62,
     "metadata": {},
     "output_type": "execute_result"
    }
   ],
   "source": [
    "a.grad"
   ]
  },
  {
   "cell_type": "code",
   "execution_count": 63,
   "id": "5e8de761-328f-4fdb-b7f3-3cb9cec3f10d",
   "metadata": {},
   "outputs": [
    {
     "data": {
      "text/plain": [
       "array(10.)"
      ]
     },
     "execution_count": 63,
     "metadata": {},
     "output_type": "execute_result"
    }
   ],
   "source": [
    "b.grad"
   ]
  },
  {
   "cell_type": "code",
   "execution_count": 64,
   "id": "eb9982c8-6dab-44db-aad2-eda82cf583bc",
   "metadata": {},
   "outputs": [
    {
     "data": {
      "text/plain": [
       "array(6.)"
      ]
     },
     "execution_count": 64,
     "metadata": {},
     "output_type": "execute_result"
    }
   ],
   "source": [
    "c.grad"
   ]
  },
  {
   "cell_type": "code",
   "execution_count": 65,
   "id": "919ccf9f-54a1-40de-8cc4-1c08e436ba0b",
   "metadata": {},
   "outputs": [
    {
     "data": {
      "text/plain": [
       "tensor(15.)"
      ]
     },
     "execution_count": 65,
     "metadata": {},
     "output_type": "execute_result"
    }
   ],
   "source": [
    "import torch\n",
    "a = torch.tensor(2.0, requires_grad=True)\n",
    "b = torch.tensor(3.0, requires_grad=True)\n",
    "c = torch.tensor(4.0, requires_grad=True)\n",
    "d = a * b * c\n",
    "e = a * b\n",
    "f = e + d\n",
    "f.backward()\n",
    "a.grad"
   ]
  },
  {
   "cell_type": "code",
   "execution_count": 66,
   "id": "a8d35222-e0f8-4007-9bc0-994c1dca4344",
   "metadata": {},
   "outputs": [
    {
     "data": {
      "text/plain": [
       "tensor(10.)"
      ]
     },
     "execution_count": 66,
     "metadata": {},
     "output_type": "execute_result"
    }
   ],
   "source": [
    "b.grad"
   ]
  },
  {
   "cell_type": "code",
   "execution_count": 67,
   "id": "1a5cde83-0451-46bc-af40-ffc8099245a4",
   "metadata": {},
   "outputs": [],
   "source": [
    "#arbitrary-dim matrix multiplication\\add test"
   ]
  },
  {
   "cell_type": "code",
   "execution_count": 68,
   "id": "da522a70-70a1-4eab-8505-046432b5834c",
   "metadata": {},
   "outputs": [],
   "source": [
    "a = tensor([[[[2.0, 3.0], [3.0, 4.0], [3.0, 4.0]],\n",
    "           [[4.0, 6.0], [2.0, 7.0], [3.0, 4.0]],\n",
    "           [[1.0, 2.0], [3.0, 5.0], [3.0, 4.0]]],\n",
    "           [[[2.0, 3.0], [3.0, 4.0], [3.0, 4.0]],\n",
    "           [[4.0, 6.0], [2.0, 7.0], [3.0, 4.0]],\n",
    "           [[1.0, 2.0], [3.0, 5.0], [3.0, 4.0]]]], True)"
   ]
  },
  {
   "cell_type": "code",
   "execution_count": 69,
   "id": "a425013f-89eb-443b-9358-eb213f8c3b02",
   "metadata": {},
   "outputs": [
    {
     "data": {
      "text/plain": [
       "(2, 3, 3, 2)"
      ]
     },
     "execution_count": 69,
     "metadata": {},
     "output_type": "execute_result"
    }
   ],
   "source": [
    "a.data.shape"
   ]
  },
  {
   "cell_type": "code",
   "execution_count": 70,
   "id": "d6f1476d-cbd7-4198-b7ca-058a68171b8e",
   "metadata": {},
   "outputs": [],
   "source": [
    "b = tensor(np.array([[1.0],[2.0]]), True)"
   ]
  },
  {
   "cell_type": "code",
   "execution_count": 71,
   "id": "2b0e950b-1550-4a38-95cb-7e9d545015cf",
   "metadata": {},
   "outputs": [
    {
     "data": {
      "text/plain": [
       "(2, 1)"
      ]
     },
     "execution_count": 71,
     "metadata": {},
     "output_type": "execute_result"
    }
   ],
   "source": [
    "b.data.shape"
   ]
  },
  {
   "cell_type": "code",
   "execution_count": 72,
   "id": "5fb7bc6b-c3fa-4011-babb-fe1d0f03ffe9",
   "metadata": {},
   "outputs": [],
   "source": [
    "c = a @ b"
   ]
  },
  {
   "cell_type": "code",
   "execution_count": 73,
   "id": "fa334868-5e05-4939-a16d-59e6f93ad9c4",
   "metadata": {},
   "outputs": [
    {
     "data": {
      "text/plain": [
       "(2, 3, 3, 1)"
      ]
     },
     "execution_count": 73,
     "metadata": {},
     "output_type": "execute_result"
    }
   ],
   "source": [
    "c.data.shape"
   ]
  },
  {
   "cell_type": "code",
   "execution_count": 74,
   "id": "d2978c26-9b19-4473-bef7-345dce878b40",
   "metadata": {},
   "outputs": [
    {
     "data": {
      "text/plain": [
       "(1, 2)"
      ]
     },
     "execution_count": 74,
     "metadata": {},
     "output_type": "execute_result"
    }
   ],
   "source": [
    "d = tensor(np.array([[1.0, 2.0]]), True)\n",
    "d.data.shape"
   ]
  },
  {
   "cell_type": "code",
   "execution_count": 75,
   "id": "10cb9bd5-30ac-4cac-8862-48d90f59162c",
   "metadata": {},
   "outputs": [
    {
     "data": {
      "text/plain": [
       "(1, 1)"
      ]
     },
     "execution_count": 75,
     "metadata": {},
     "output_type": "execute_result"
    }
   ],
   "source": [
    "e = d @ b\n",
    "e.data.shape"
   ]
  },
  {
   "cell_type": "code",
   "execution_count": 76,
   "id": "ba69b2a4-097d-462c-986f-4446a6c5b5d3",
   "metadata": {},
   "outputs": [
    {
     "data": {
      "text/plain": [
       "(2, 3, 3, 1)"
      ]
     },
     "execution_count": 76,
     "metadata": {},
     "output_type": "execute_result"
    }
   ],
   "source": [
    "f = c @ e + c\n",
    "f.data.shape"
   ]
  },
  {
   "cell_type": "code",
   "execution_count": 77,
   "id": "9b25f16a-4de2-4f3f-b7aa-1da510d664fd",
   "metadata": {},
   "outputs": [],
   "source": [
    "f.backward(f.get_ones())"
   ]
  },
  {
   "cell_type": "code",
   "execution_count": 78,
   "id": "fd42055a-6104-46d4-bd50-7765624fc774",
   "metadata": {},
   "outputs": [
    {
     "data": {
      "text/plain": [
       "array([[[[ 6., 12.],\n",
       "         [ 6., 12.],\n",
       "         [ 6., 12.]],\n",
       "\n",
       "        [[ 6., 12.],\n",
       "         [ 6., 12.],\n",
       "         [ 6., 12.]],\n",
       "\n",
       "        [[ 6., 12.],\n",
       "         [ 6., 12.],\n",
       "         [ 6., 12.]]],\n",
       "\n",
       "\n",
       "       [[[ 6., 12.],\n",
       "         [ 6., 12.],\n",
       "         [ 6., 12.]],\n",
       "\n",
       "        [[ 6., 12.],\n",
       "         [ 6., 12.],\n",
       "         [ 6., 12.]],\n",
       "\n",
       "        [[ 6., 12.],\n",
       "         [ 6., 12.],\n",
       "         [ 6., 12.]]]])"
      ]
     },
     "execution_count": 78,
     "metadata": {},
     "output_type": "execute_result"
    }
   ],
   "source": [
    "a.grad"
   ]
  },
  {
   "cell_type": "code",
   "execution_count": 79,
   "id": "c63a3946-71ac-4d89-869d-4e4cc5e954ba",
   "metadata": {},
   "outputs": [
    {
     "data": {
      "text/plain": [
       "array([[492.],\n",
       "       [876.]])"
      ]
     },
     "execution_count": 79,
     "metadata": {},
     "output_type": "execute_result"
    }
   ],
   "source": [
    "b.grad"
   ]
  },
  {
   "cell_type": "code",
   "execution_count": 80,
   "id": "cad48797-d857-484b-a409-2276bca9db3f",
   "metadata": {},
   "outputs": [
    {
     "data": {
      "text/plain": [
       "array([[[[6.],\n",
       "         [6.],\n",
       "         [6.]],\n",
       "\n",
       "        [[6.],\n",
       "         [6.],\n",
       "         [6.]],\n",
       "\n",
       "        [[6.],\n",
       "         [6.],\n",
       "         [6.]]],\n",
       "\n",
       "\n",
       "       [[[6.],\n",
       "         [6.],\n",
       "         [6.]],\n",
       "\n",
       "        [[6.],\n",
       "         [6.],\n",
       "         [6.]],\n",
       "\n",
       "        [[6.],\n",
       "         [6.],\n",
       "         [6.]]]])"
      ]
     },
     "execution_count": 80,
     "metadata": {},
     "output_type": "execute_result"
    }
   ],
   "source": [
    "c.grad"
   ]
  },
  {
   "cell_type": "code",
   "execution_count": 81,
   "id": "050fb665-3c86-4da3-956e-b4f0d2f08356",
   "metadata": {},
   "outputs": [
    {
     "data": {
      "text/plain": [
       "array([[204., 408.]])"
      ]
     },
     "execution_count": 81,
     "metadata": {},
     "output_type": "execute_result"
    }
   ],
   "source": [
    "d.grad"
   ]
  },
  {
   "cell_type": "code",
   "execution_count": 82,
   "id": "65a85752-316f-4edc-9567-0a03972f716a",
   "metadata": {},
   "outputs": [
    {
     "data": {
      "text/plain": [
       "array([[204.]])"
      ]
     },
     "execution_count": 82,
     "metadata": {},
     "output_type": "execute_result"
    }
   ],
   "source": [
    "e.grad"
   ]
  },
  {
   "cell_type": "code",
   "execution_count": 83,
   "id": "99f0164c-9431-415d-b707-f2846fef4e3f",
   "metadata": {},
   "outputs": [],
   "source": [
    "import torch\n",
    "a = torch.tensor(\n",
    "    [[[[2.0, 3.0], [3.0, 4.0], [3.0, 4.0]],\n",
    "       [[4.0, 6.0], [2.0, 7.0], [3.0, 4.0]],\n",
    "       [[1.0, 2.0], [3.0, 5.0], [3.0, 4.0]]],\n",
    "       [[[2.0, 3.0], [3.0, 4.0], [3.0, 4.0]],\n",
    "       [[4.0, 6.0], [2.0, 7.0], [3.0, 4.0]],\n",
    "       [[1.0, 2.0], [3.0, 5.0], [3.0, 4.0]]]], requires_grad=True)\n",
    "b = torch.tensor([[1.0],[2.0]], requires_grad=True)\n",
    "c = a @ b\n",
    "d = torch.tensor([[1.0, 2.0]], requires_grad=True)\n",
    "e = d @ b\n",
    "f = c @ e + c\n",
    "a.retain_grad()\n",
    "b.retain_grad()\n",
    "c.retain_grad()\n",
    "d.retain_grad()\n",
    "e.retain_grad()\n",
    "f.retain_grad()"
   ]
  },
  {
   "cell_type": "code",
   "execution_count": 84,
   "id": "44d401f0-3c04-4455-8228-5c849c2e354a",
   "metadata": {},
   "outputs": [],
   "source": [
    "f.backward(gradient=torch.ones_like(f))"
   ]
  },
  {
   "cell_type": "code",
   "execution_count": 85,
   "id": "baf06b07-b642-4b6e-99bb-a72faf8396c9",
   "metadata": {},
   "outputs": [
    {
     "data": {
      "text/plain": [
       "tensor([[[[ 6., 12.],\n",
       "          [ 6., 12.],\n",
       "          [ 6., 12.]],\n",
       "\n",
       "         [[ 6., 12.],\n",
       "          [ 6., 12.],\n",
       "          [ 6., 12.]],\n",
       "\n",
       "         [[ 6., 12.],\n",
       "          [ 6., 12.],\n",
       "          [ 6., 12.]]],\n",
       "\n",
       "\n",
       "        [[[ 6., 12.],\n",
       "          [ 6., 12.],\n",
       "          [ 6., 12.]],\n",
       "\n",
       "         [[ 6., 12.],\n",
       "          [ 6., 12.],\n",
       "          [ 6., 12.]],\n",
       "\n",
       "         [[ 6., 12.],\n",
       "          [ 6., 12.],\n",
       "          [ 6., 12.]]]])"
      ]
     },
     "execution_count": 85,
     "metadata": {},
     "output_type": "execute_result"
    }
   ],
   "source": [
    "a.grad"
   ]
  },
  {
   "cell_type": "code",
   "execution_count": 86,
   "id": "e2679ce6-ab41-49e1-8661-8e11b5435a33",
   "metadata": {},
   "outputs": [
    {
     "data": {
      "text/plain": [
       "tensor([[492.],\n",
       "        [876.]])"
      ]
     },
     "execution_count": 86,
     "metadata": {},
     "output_type": "execute_result"
    }
   ],
   "source": [
    "b.grad"
   ]
  },
  {
   "cell_type": "code",
   "execution_count": 87,
   "id": "b985c885-6656-4b2a-9212-439c8ef46d46",
   "metadata": {},
   "outputs": [
    {
     "data": {
      "text/plain": [
       "tensor([[[[6.],\n",
       "          [6.],\n",
       "          [6.]],\n",
       "\n",
       "         [[6.],\n",
       "          [6.],\n",
       "          [6.]],\n",
       "\n",
       "         [[6.],\n",
       "          [6.],\n",
       "          [6.]]],\n",
       "\n",
       "\n",
       "        [[[6.],\n",
       "          [6.],\n",
       "          [6.]],\n",
       "\n",
       "         [[6.],\n",
       "          [6.],\n",
       "          [6.]],\n",
       "\n",
       "         [[6.],\n",
       "          [6.],\n",
       "          [6.]]]])"
      ]
     },
     "execution_count": 87,
     "metadata": {},
     "output_type": "execute_result"
    }
   ],
   "source": [
    "c.grad"
   ]
  },
  {
   "cell_type": "code",
   "execution_count": 88,
   "id": "bfd9e43c-2738-4c24-a7f2-7aae7399dcfa",
   "metadata": {},
   "outputs": [
    {
     "data": {
      "text/plain": [
       "tensor([[204., 408.]])"
      ]
     },
     "execution_count": 88,
     "metadata": {},
     "output_type": "execute_result"
    }
   ],
   "source": [
    "d.grad"
   ]
  },
  {
   "cell_type": "code",
   "execution_count": 89,
   "id": "d864200f-2f6d-46e6-ae5c-e3eaae58a5b9",
   "metadata": {},
   "outputs": [
    {
     "data": {
      "text/plain": [
       "tensor([[204.]])"
      ]
     },
     "execution_count": 89,
     "metadata": {},
     "output_type": "execute_result"
    }
   ],
   "source": [
    "e.grad"
   ]
  },
  {
   "cell_type": "code",
   "execution_count": null,
   "id": "e174d637-6f6e-4f6f-a42b-e8ff976a5ce8",
   "metadata": {},
   "outputs": [],
   "source": [
    "#matrix sclar multiplication\\add test"
   ]
  },
  {
   "cell_type": "code",
   "execution_count": 135,
   "id": "4c821a96-b656-4f4e-bdfe-ffe12e1d9ebf",
   "metadata": {},
   "outputs": [],
   "source": [
    "a = tensor(2.0, True)\n",
    "b = tensor(np.array([[1, 2],[3, 4]]), True)"
   ]
  },
  {
   "cell_type": "code",
   "execution_count": 136,
   "id": "2c2aa0e2-bbed-44e5-9be5-08cdc74a6108",
   "metadata": {},
   "outputs": [
    {
     "data": {
      "text/plain": [
       "True"
      ]
     },
     "execution_count": 136,
     "metadata": {},
     "output_type": "execute_result"
    }
   ],
   "source": [
    "a.data.shape == ()"
   ]
  },
  {
   "cell_type": "code",
   "execution_count": 137,
   "id": "b247d05b-72d8-4f57-acb5-7c9a0db83a41",
   "metadata": {},
   "outputs": [
    {
     "data": {
      "text/plain": [
       "array([[1., 2.],\n",
       "       [3., 4.]])"
      ]
     },
     "execution_count": 137,
     "metadata": {},
     "output_type": "execute_result"
    }
   ],
   "source": [
    "b.data"
   ]
  },
  {
   "cell_type": "code",
   "execution_count": 138,
   "id": "13f7453e-caf7-40bc-b273-ed8efef05136",
   "metadata": {},
   "outputs": [],
   "source": [
    "c = a * b"
   ]
  },
  {
   "cell_type": "code",
   "execution_count": 139,
   "id": "718b9339-e25d-4bec-a4b9-c1ad7ba2ebe6",
   "metadata": {},
   "outputs": [
    {
     "data": {
      "text/plain": [
       "array([[2., 4.],\n",
       "       [6., 8.]])"
      ]
     },
     "execution_count": 139,
     "metadata": {},
     "output_type": "execute_result"
    }
   ],
   "source": [
    "c.data"
   ]
  },
  {
   "cell_type": "code",
   "execution_count": 140,
   "id": "288e4a84-1f43-4338-ac84-de7263a5cd15",
   "metadata": {},
   "outputs": [],
   "source": [
    "c.backward(c.get_ones())"
   ]
  },
  {
   "cell_type": "code",
   "execution_count": 141,
   "id": "2830ed1d-31ea-4ecd-83fe-75c478b88a47",
   "metadata": {},
   "outputs": [
    {
     "data": {
      "text/plain": [
       "array(10.)"
      ]
     },
     "execution_count": 141,
     "metadata": {},
     "output_type": "execute_result"
    }
   ],
   "source": [
    "a.grad"
   ]
  },
  {
   "cell_type": "code",
   "execution_count": 142,
   "id": "b610567e-be37-47da-ab64-3eac390d475f",
   "metadata": {},
   "outputs": [
    {
     "data": {
      "text/plain": [
       "array([[2., 2.],\n",
       "       [2., 2.]])"
      ]
     },
     "execution_count": 142,
     "metadata": {},
     "output_type": "execute_result"
    }
   ],
   "source": [
    "b.grad"
   ]
  },
  {
   "cell_type": "code",
   "execution_count": 146,
   "id": "a183567c-658b-4c66-b88a-5373409d2079",
   "metadata": {},
   "outputs": [],
   "source": [
    "a = torch.tensor(2.0, requires_grad=True)\n",
    "b = torch.tensor([[1.0, 2.0],[3.0, 4.0]], requires_grad=True)\n",
    "c = a * b\n",
    "a.retain_grad()\n",
    "b.retain_grad()\n",
    "c.retain_grad()\n",
    "c.backward(gradient=torch.ones_like(c))"
   ]
  },
  {
   "cell_type": "code",
   "execution_count": 147,
   "id": "b208845b-3ce5-42ca-9cde-97b44ed6f22f",
   "metadata": {},
   "outputs": [
    {
     "data": {
      "text/plain": [
       "tensor(10.)"
      ]
     },
     "execution_count": 147,
     "metadata": {},
     "output_type": "execute_result"
    }
   ],
   "source": [
    "a.grad"
   ]
  },
  {
   "cell_type": "code",
   "execution_count": 148,
   "id": "6b508e93-dce9-4912-a704-c3b8404a76a1",
   "metadata": {},
   "outputs": [
    {
     "data": {
      "text/plain": [
       "tensor([[2., 2.],\n",
       "        [2., 2.]])"
      ]
     },
     "execution_count": 148,
     "metadata": {},
     "output_type": "execute_result"
    }
   ],
   "source": [
    "b.grad"
   ]
  },
  {
   "cell_type": "code",
   "execution_count": null,
   "id": "143aa81c-13b8-4559-b35b-7c7787ba9659",
   "metadata": {},
   "outputs": [],
   "source": []
  }
 ],
 "metadata": {
  "kernelspec": {
   "display_name": "JYY_nvdr",
   "language": "python",
   "name": "jyy_ncdr"
  },
  "language_info": {
   "codemirror_mode": {
    "name": "ipython",
    "version": 3
   },
   "file_extension": ".py",
   "mimetype": "text/x-python",
   "name": "python",
   "nbconvert_exporter": "python",
   "pygments_lexer": "ipython3",
   "version": "3.9.21"
  }
 },
 "nbformat": 4,
 "nbformat_minor": 5
}
